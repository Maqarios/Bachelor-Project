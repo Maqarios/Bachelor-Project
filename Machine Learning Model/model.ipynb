{
 "cells": [
  {
   "cell_type": "code",
   "execution_count": 2,
   "metadata": {},
   "outputs": [],
   "source": [
    "# Imports\n",
    "import numpy\n",
    "import matplotlib.pyplot as plt\n",
    "import scipy.io"
   ]
  },
  {
   "cell_type": "code",
   "execution_count": 3,
   "metadata": {},
   "outputs": [],
   "source": [
    "# Declarations\n",
    "\n",
    "# Paths\n",
    "SUBJECT_A_TRAIN_PATH = '../dataset/Matlab Format/Subject_A_Train.mat'\n",
    "SUBJECT_A_TEST_PATH = '../dataset/Matlab Format/Subject_A_Test.mat'\n",
    "SUBJECT_B_TRAIN_PATH = '../dataset/Matlab Format/Subject_B_Train.mat'\n",
    "SUBJECT_B_TEST_PATH = '../dataset/Matlab Format/Subject_A_Test.mat'\n",
    "\n",
    "# Input Constants\n",
    "EPOCHS = 85\n",
    "CHANNELS = 64\n",
    "EXTRACTED_CHANNEL = 11 #Cz\n",
    "INTENSIFICATIONS = 12\n",
    "WINDOW = 240\n",
    "\n",
    "# 6x6 Grid That Is Displayed To The User\n",
    "MATRIX = numpy.array(['A', 'B', 'C', 'D', 'E', 'F', \\\n",
    "                      'G', 'H', 'I', 'J', 'K', 'L', \\\n",
    "                      'M', 'N', 'O', 'P', 'Q', 'R', \\\n",
    "                      'S', 'T', 'U', 'V', 'W', 'X', \\\n",
    "                      'Y', 'Z', '1', '2', '3', '4', \\\n",
    "                      '5', '6', '7', '8', '9', '_'])"
   ]
  },
  {
   "cell_type": "code",
   "execution_count": 4,
   "metadata": {},
   "outputs": [],
   "source": [
    "# Loading Data\n",
    "Subject_A_Train = scipy.io.loadmat(SUBJECT_A_TRAIN_PATH)\n",
    "Subject_A_Test = scipy.io.loadmat(SUBJECT_A_TEST_PATH)\n",
    "Subject_B_Train = scipy.io.loadmat(SUBJECT_B_TRAIN_PATH)\n",
    "Subject_B_Test = scipy.io.loadmat(SUBJECT_B_TEST_PATH)"
   ]
  },
  {
   "cell_type": "code",
   "execution_count": 5,
   "metadata": {},
   "outputs": [
    {
     "name": "stdout",
     "output_type": "stream",
     "text": [
      "Subject A Signal Train: (85, 7794, 64)\n",
      "Subject A TargetChar Train: (1,)\n",
      "Subject A Flashing Train: (85, 7794)\n",
      "Subject A StimulusCode Train: (85, 7794)\n",
      "Subject A StimulusType Train: (85, 7794)\n",
      "\n",
      "Subject B Signal Train: (85, 7794, 64)\n",
      "Subject B TargetChar Train: (1,)\n",
      "Subject B Flashing Train: (85, 7794)\n",
      "Subject B StimulusCode Train: (85, 7794)\n",
      "Subject B StimulusType Train: (85, 7794)\n"
     ]
    }
   ],
   "source": [
    "# Detection\n",
    "\n",
    "# A\n",
    "Subject_A_Signal_Train = numpy.array(Subject_A_Train.get('Signal'));\n",
    "Subject_A_TargetChar_Train = numpy.array(Subject_A_Train.get('TargetChar'));\n",
    "Subject_A_Flashing_Train = numpy.array(Subject_A_Train.get('Flashing'));\n",
    "Subject_A_StimulusCode_Train = numpy.array(Subject_A_Train.get('StimulusCode'));\n",
    "Subject_A_StimulusType_Train = numpy.array(Subject_A_Train.get('StimulusType'));\n",
    "print('Subject A Signal Train:', Subject_A_Signal_Train.shape)\n",
    "print('Subject A TargetChar Train:', Subject_A_TargetChar_Train.shape)\n",
    "print('Subject A Flashing Train:', Subject_A_Flashing_Train.shape)\n",
    "print('Subject A StimulusCode Train:', Subject_A_StimulusCode_Train.shape)\n",
    "print('Subject A StimulusType Train:', Subject_A_StimulusType_Train.shape)\n",
    "\n",
    "# B\n",
    "Subject_B_Signal_Train = numpy.array(Subject_B_Train.get('Signal'));\n",
    "Subject_B_TargetChar_Train = numpy.array(Subject_B_Train.get('TargetChar'));\n",
    "Subject_B_Flashing_Train = numpy.array(Subject_B_Train.get('Flashing'));\n",
    "Subject_B_StimulusCode_Train = numpy.array(Subject_B_Train.get('StimulusCode'));\n",
    "Subject_B_StimulusType_Train = numpy.array(Subject_B_Train.get('StimulusType'));\n",
    "print('\\nSubject B Signal Train:', Subject_B_Signal_Train.shape)\n",
    "print('Subject B TargetChar Train:', Subject_B_TargetChar_Train.shape)\n",
    "print('Subject B Flashing Train:', Subject_B_Flashing_Train.shape)\n",
    "print('Subject B StimulusCode Train:', Subject_B_StimulusCode_Train.shape)\n",
    "print('Subject B StimulusType Train:', Subject_B_StimulusType_Train.shape)"
   ]
  },
  {
   "cell_type": "code",
   "execution_count": 26,
   "metadata": {},
   "outputs": [],
   "source": [
    "# Function To Get Average Of All Signals (And Channels) Within 1 Run\n",
    "def get_runs_average(\n",
    "        signals,\n",
    "        stimulus_code,\n",
    "        intensifications = 12,\n",
    "        repeatitions = 15,\n",
    "        window = 240,\n",
    "        average_channels = True\n",
    "    ):\n",
    "    \n",
    "    \"\"\"\n",
    "    Function To Get Average Of All Signals (And Channels) Within 1 Run\n",
    "    ------------------------------------------------------------------\n",
    "    \n",
    "    signals: Numpy Array: Signals Received From The BCI Device (Dims: (samples, channels))\n",
    "    stimulus_code: Numpy Array: Indicates Which Row/Column Is Intensified (Dims: (samples))\n",
    "    intensifications: Integer: Rows + Columns: Default Is 12\n",
    "    repeatitions: Integer: Indicates How Many Times Each Row/Column Intensified: Default Is 15\n",
    "    window: Integer: Size of Checked Samples (Signal Digitization): Default Is 240 (1s)\n",
    "    average_channels: Boolean: To Signify Whether The Channels Will Be Averaged Or Not: Default Is True\n",
    "    \"\"\"\n",
    "    \n",
    "    # Sum of All Repeatitions -> Division of Sum -> Average\n",
    "    responses = numpy.zeros((intensifications, window, signals.shape[1]))\n",
    "    for n in range(1, Subject_A_Signal_Train.shape[1]):\n",
    "        if stimulus_code[n] == 0 and stimulus_code[n - 1] != 0:\n",
    "            responses[int(stimulus_code[n - 1]) - 1] += signals[n - 24 : n + window - 24]\n",
    "    average_responses = responses / repeatitions\n",
    "    \n",
    "    # Average Of Channels\n",
    "    if(average_channels):\n",
    "        average_responses = numpy.mean(average_responses, axis = 2)\n",
    "    \n",
    "    return average_responses"
   ]
  },
  {
   "cell_type": "code",
   "execution_count": 27,
   "metadata": {},
   "outputs": [],
   "source": [
    "# Function To Get Average Of All Signals (And Channels) Within 1 Session\n",
    "def get_sessions_average(\n",
    "        signals,\n",
    "        stimulus_code,\n",
    "        target_char,\n",
    "        no_of_rows = 6,\n",
    "        no_of_columns = 6,\n",
    "        repeatitions = 15,\n",
    "        window = 240,\n",
    "        average_channels = True\n",
    "    ):\n",
    "    \n",
    "    \"\"\"\n",
    "    Function To Get Average Of All Signals (And Channels) Within 1 Session\n",
    "    ----------------------------------------------------------------------\n",
    "    \n",
    "    signals: Numpy Array: Signals Received From The BCI Device (Dims: (epochs, samples, channels))\n",
    "    stimulus_code: Numpy Array: Indicates Which Row/Column Is Intensified (Dims: (epochs, samples))\n",
    "    target_char: String: Indicates Target Character\n",
    "    no_of_rows: Integer: Number of Rows: Default Is 6\n",
    "    no_of_columns: Integer: Number of Columns: Default Is 6\n",
    "    repeatitions: Integer: Indicates How Many Times Each Row/Column Intensified: Default Is 15\n",
    "    window: Integer: Size of Checked Samples (Signal Digitization): Default Is 240 (1s)\n",
    "    average_channels: Boolean: To Signify Whether The Channels Will Be Averaged Or Not: Default Is True\n",
    "    \"\"\"\n",
    "    \n",
    "    if(average_channels):\n",
    "        sum_average_responses_Success = numpy.zeros((window))\n",
    "        sum_average_responses_Fail = numpy.zeros((window))\n",
    "    else:\n",
    "        sum_average_responses_Success = numpy.zeros((window, signals.shape[2]))\n",
    "        sum_average_responses_Fail = numpy.zeros((window, signals.shape[2]))\n",
    "    \n",
    "    intensifications = no_of_rows + no_of_columns\n",
    "    \n",
    "    # Looping Through Characters (85 Character)\n",
    "    for epoch in range(1, signals.shape[0]):\n",
    "\n",
    "        average_responses = get_runs_average(\n",
    "            signals[epoch],\n",
    "            stimulus_code[epoch],\n",
    "            intensifications,\n",
    "            repeatitions,\n",
    "            window,\n",
    "            average_channels\n",
    "        )\n",
    "\n",
    "        # Getting Index Of Chosen Character\n",
    "        index = numpy.where(MATRIX == target_char[epoch])[0][0]\n",
    "        chosen_column = index % no_of_columns\n",
    "        chosen_row = int((index / no_of_columns) % no_of_rows) + no_of_columns\n",
    "\n",
    "\n",
    "        for row_column in range(intensifications):\n",
    "            if row_column == chosen_row or row_column == chosen_column:\n",
    "                sum_average_responses_Success += average_responses[row_column]\n",
    "            else:\n",
    "                sum_average_responses_Fail += average_responses[row_column]\n",
    "\n",
    "    average_responses_Success = sum_average_responses_Success / (signals.shape[0] * 2)\n",
    "    average_responses_Fail = sum_average_responses_Fail / (signals.shape[0] * (intensifications - 2))\n",
    "    \n",
    "    return average_responses_Success, average_responses_Fail"
   ]
  },
  {
   "cell_type": "code",
   "execution_count": 36,
   "metadata": {},
   "outputs": [],
   "source": [
    "A_Success, A_Fail = get_sessions_average(\n",
    "    Subject_A_Signal_Train,\n",
    "    Subject_A_StimulusCode_Train,\n",
    "    Subject_A_TargetChar_Train[0],\n",
    "    average_channels = False\n",
    ")\n",
    "\n",
    "B_Success, B_Fail = get_sessions_average(\n",
    "    Subject_B_Signal_Train,\n",
    "    Subject_B_StimulusCode_Train,\n",
    "    Subject_B_TargetChar_Train[0],\n",
    "    average_channels = False\n",
    ")"
   ]
  },
  {
   "cell_type": "code",
   "execution_count": 40,
   "metadata": {},
   "outputs": [
    {
     "data": {
      "text/plain": [
       "<matplotlib.legend.Legend at 0x1d76082c9b0>"
      ]
     },
     "execution_count": 40,
     "metadata": {},
     "output_type": "execute_result"
    },
    {
     "data": {
      "image/png": "[encoded data removed]",
      "text/plain": [
       "<Figure size 432x288 with 2 Axes>"
      ]
     },
     "metadata": {
      "needs_background": "light"
     },
     "output_type": "display_data"
    }
   ],
   "source": [
    "# A\n",
    "ax1 = plt.subplot(3, 1, 1)\n",
    "ax1.plot(A_Success[:169, EXTRACTED_CHANNEL])\n",
    "ax1.plot(A_Fail[:169, EXTRACTED_CHANNEL])\n",
    "ax1.set_title('Subject A')\n",
    "ax1.set_xlabel('Samples')\n",
    "ax1.set_ylabel('Signal Value')\n",
    "ax1.legend(('P300', 'Non-P300'))\n",
    "\n",
    "# B\n",
    "ax2 = plt.subplot(3, 1, 3)\n",
    "ax2.plot(B_Success[:169, EXTRACTED_CHANNEL])\n",
    "ax2.plot(B_Fail[:169, EXTRACTED_CHANNEL])\n",
    "ax2.set_title('Subject B')\n",
    "ax2.set_xlabel('Samples')\n",
    "ax2.set_ylabel('Signal Value')\n",
    "ax2.legend(('P300', 'Non-P300'))"
   ]
  }
 ],
 "metadata": {
  "kernelspec": {
   "display_name": "Python 3",
   "language": "python",
   "name": "python3"
  },
  "language_info": {
   "codemirror_mode": {
    "name": "ipython",
    "version": 3
   },
   "file_extension": ".py",
   "mimetype": "text/x-python",
   "name": "python",
   "nbconvert_exporter": "python",
   "pygments_lexer": "ipython3",
   "version": "3.7.1"
  }
 },
 "nbformat": 4,
 "nbformat_minor": 2
}
