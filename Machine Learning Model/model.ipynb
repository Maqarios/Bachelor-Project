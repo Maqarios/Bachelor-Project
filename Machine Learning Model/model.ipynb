{
 "cells": [
  {
   "cell_type": "code",
   "execution_count": 677,
   "metadata": {},
   "outputs": [],
   "source": [
    "# Imports\n",
    "import numpy\n",
    "numpy.set_printoptions(threshold=1000)\n",
    "\n",
    "import matplotlib.pyplot as plt\n",
    "\n",
    "import scipy.io"
   ]
  },
  {
   "cell_type": "code",
   "execution_count": 678,
   "metadata": {},
   "outputs": [],
   "source": [
    "# Declarations\n",
    "\n",
    "# Paths\n",
    "SUBJECT_A_TRAIN_PATH = '../dataset/Matlab Format/Subject_A_Train.mat'\n",
    "SUBJECT_A_TEST_PATH = '../dataset/Matlab Format/Subject_A_Test.mat'\n",
    "SUBJECT_B_TRAIN_PATH = '../dataset/Matlab Format/Subject_B_Train.mat'\n",
    "SUBJECT_B_TEST_PATH = '../dataset/Matlab Format/Subject_A_Test.mat'\n",
    "\n",
    "EPOCHS = 85\n",
    "CHANNELS = 64\n",
    "EXTRACTED_CHANNEL = 51 #Pz\n",
    "INTENSIFICATIONS = 12\n",
    "WINDOW = 240\n",
    "\n",
    "MATRIX = numpy.array(['A', 'B', 'C', 'D', 'E', 'F', \\\n",
    "                      'G', 'H', 'I', 'J', 'K', 'L', \\\n",
    "                      'M', 'N', 'O', 'P', 'Q', 'R', \\\n",
    "                      'S', 'T', 'U', 'V', 'W', 'X', \\\n",
    "                      'Y', 'Z', '1', '2', '3', '4', \\\n",
    "                      '5', '6', '7', '8', '9', '_'])"
   ]
  },
  {
   "cell_type": "code",
   "execution_count": 679,
   "metadata": {},
   "outputs": [],
   "source": [
    "# Loading\n",
    "Subject_A_Train = scipy.io.loadmat(SUBJECT_A_TRAIN_PATH)\n",
    "Subject_A_Test = scipy.io.loadmat(SUBJECT_A_TEST_PATH)\n",
    "Subject_B_Train = scipy.io.loadmat(SUBJECT_B_TRAIN_PATH)\n",
    "Subject_B_Test = scipy.io.loadmat(SUBJECT_B_TEST_PATH)"
   ]
  },
  {
   "cell_type": "code",
   "execution_count": 693,
   "metadata": {},
   "outputs": [
    {
     "name": "stdout",
     "output_type": "stream",
     "text": [
      "Subject A Signal Train: (85, 7794, 64)\n",
      "Subject A TargetChar Train: (1,)\n",
      "Subject A Flashing Train: (85, 7794)\n",
      "Subject A StimulusCode Train: (85, 7794)\n",
      "Subject A StimulusType Train: (85, 7794)\n"
     ]
    }
   ],
   "source": [
    "# Detection\n",
    "Subject_A_Signal_Train = numpy.array(Subject_A_Train.get('Signal'));\n",
    "Subject_A_TargetChar_Train = numpy.array(Subject_A_Train.get('TargetChar'));\n",
    "Subject_A_Flashing_Train = numpy.array(Subject_A_Train.get('Flashing'));\n",
    "Subject_A_StimulusCode_Train = numpy.array(Subject_A_Train.get('StimulusCode'));\n",
    "Subject_A_StimulusType_Train = numpy.array(Subject_A_Train.get('StimulusType'));\n",
    "\n",
    "print('Subject A Signal Train:', Subject_A_Signal_Train.shape)\n",
    "print('Subject A TargetChar Train:', Subject_A_TargetChar_Train.shape)\n",
    "print('Subject A Flashing Train:', Subject_A_Flashing_Train.shape)\n",
    "print('Subject A StimulusCode Train:', Subject_A_StimulusCode_Train.shape)\n",
    "print('Subject A StimulusType Train:', Subject_A_StimulusType_Train.shape)"
   ]
  },
  {
   "cell_type": "code",
   "execution_count": 694,
   "metadata": {},
   "outputs": [],
   "source": [
    "sum_average_responses_Success = numpy.zeros((WINDOW, CHANNELS))\n",
    "sum_average_responses_Fail = numpy.zeros((WINDOW, CHANNELS))\n",
    "\n",
    "# Looping Through Characters (85 Character)\n",
    "for epoch in range(1, Subject_A_Signal_Train.shape[0]):\n",
    "    \n",
    "    # Looping Through Signals (7794 Signal)\n",
    "    row_column_count = numpy.zeros(12)\n",
    "    responses = numpy.zeros((12, 15, WINDOW, CHANNELS))\n",
    "    for n in range(1, Subject_A_Signal_Train.shape[1]):\n",
    "        if Subject_A_Flashing_Train[epoch, n] == 0 and Subject_A_Flashing_Train[epoch, n-1] == 1:\n",
    "            row_column = Subject_A_StimulusCode_Train[epoch, n-1]\n",
    "            responses[int(row_column)-1, int(row_column_count[int(row_column)-1])-1] = Subject_A_Signal_Train[epoch, n-24:n+WINDOW-24]\n",
    "            row_column_count[int(row_column)-1] += 1\n",
    "    \n",
    "    # Getting Average Over The 15 Repeatition\n",
    "    average_responses = numpy.mean(responses, axis = 1)\n",
    "    \n",
    "    # Getting Index Of Chosen Character\n",
    "    index = numpy.where(MATRIX == Subject_A_TargetChar_Train[0][epoch])[0][0]\n",
    "    chosen_column = index % 6\n",
    "    chosen_row = int((index / 6) % 6) + 6\n",
    "    \n",
    "    \n",
    "    for row_column in range(12):\n",
    "        if row_column == chosen_row or row_column == chosen_column:\n",
    "            sum_average_responses_Success += average_responses[row_column]\n",
    "        else:\n",
    "            sum_average_responses_Fail += average_responses[row_column]\n",
    "\n",
    "average_responses_Success = numpy.zeros((WINDOW, CHANNELS))\n",
    "average_responses_Fail = numpy.zeros((WINDOW, CHANNELS))\n",
    "\n",
    "average_responses_Success = sum_average_responses_Success / (Subject_A_Signal_Train.shape[0] * 2)\n",
    "average_responses_Fail = sum_average_responses_Fail / (Subject_A_Signal_Train.shape[0] * 10)"
   ]
  },
  {
   "cell_type": "code",
   "execution_count": 695,
   "metadata": {},
   "outputs": [
    {
     "data": {
      "text/plain": [
       "[<matplotlib.lines.Line2D at 0x2363166c8d0>]"
      ]
     },
     "execution_count": 695,
     "metadata": {},
     "output_type": "execute_result"
    },
    {
     "data": {
      "image/png": "[encoded data removed]",
      "text/plain": [
       "<Figure size 432x288 with 1 Axes>"
      ]
     },
     "metadata": {
      "needs_background": "light"
     },
     "output_type": "display_data"
    }
   ],
   "source": [
    "# Plotting Average Over All Channels\n",
    "plt.plot(numpy.mean(average_responses_Success, axis = 1))\n",
    "plt.plot(numpy.mean(average_responses_Fail, axis = 1))"
   ]
  },
  {
   "cell_type": "code",
   "execution_count": null,
   "metadata": {},
   "outputs": [],
   "source": []
  }
 ],
 "metadata": {
  "kernelspec": {
   "display_name": "Python 3",
   "language": "python",
   "name": "python3"
  },
  "language_info": {
   "codemirror_mode": {
    "name": "ipython",
    "version": 3
   },
   "file_extension": ".py",
   "mimetype": "text/x-python",
   "name": "python",
   "nbconvert_exporter": "python",
   "pygments_lexer": "ipython3",
   "version": "3.7.1"
  }
 },
 "nbformat": 4,
 "nbformat_minor": 2
}
