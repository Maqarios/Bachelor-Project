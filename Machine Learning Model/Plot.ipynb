{
 "cells": [
  {
   "cell_type": "code",
   "execution_count": 50,
   "metadata": {},
   "outputs": [],
   "source": [
    "# Imports\n",
    "import numpy\n",
    "import matplotlib.pyplot as plt\n",
    "import scipy.io"
   ]
  },
  {
   "cell_type": "code",
   "execution_count": 51,
   "metadata": {},
   "outputs": [],
   "source": [
    "# Declarations\n",
    "\n",
    "# Paths\n",
    "SUBJECT_A_TRAIN_PATH = '../dataset/Matlab Format/Subject_A_Train.mat'\n",
    "SUBJECT_B_TRAIN_PATH = '../dataset/Matlab Format/Subject_B_Train.mat'\n",
    "\n",
    "# Input Constants\n",
    "EXTRACTED_CHANNEL = 10 #Cz\n",
    "START_WINDOW = 0\n",
    "END_WINDOW = 170\n",
    "\n",
    "# 6x6 Grid That Is Displayed To The User\n",
    "MATRIX = numpy.array([['A', 'B', 'C', 'D', 'E', 'F'], \\\n",
    "                      ['G', 'H', 'I', 'J', 'K', 'L'], \\\n",
    "                      ['M', 'N', 'O', 'P', 'Q', 'R'], \\\n",
    "                      ['S', 'T', 'U', 'V', 'W', 'X'], \\\n",
    "                      ['Y', 'Z', '1', '2', '3', '4'], \\\n",
    "                      ['5', '6', '7', '8', '9', '_']])"
   ]
  },
  {
   "cell_type": "code",
   "execution_count": 52,
   "metadata": {},
   "outputs": [],
   "source": [
    "# Loading Data\n",
    "Subject_A_Train = scipy.io.loadmat(SUBJECT_A_TRAIN_PATH)\n",
    "Subject_B_Train = scipy.io.loadmat(SUBJECT_B_TRAIN_PATH)"
   ]
  },
  {
   "cell_type": "code",
   "execution_count": 53,
   "metadata": {},
   "outputs": [
    {
     "name": "stdout",
     "output_type": "stream",
     "text": [
      "A Train\n",
      "Subject A Signal Train: (85, 7794, 64)\n",
      "Subject A TargetChar Train: (1,)\n",
      "Subject A StimulusCode Train: (85, 7794)\n",
      "\n",
      "B Train\n",
      "Subject B Signal Train: (85, 7794, 64)\n",
      "Subject B TargetChar Train: (1,)\n",
      "Subject B StimulusCode Train: (85, 7794)\n"
     ]
    }
   ],
   "source": [
    "# Detection\n",
    "\n",
    "# A\n",
    "#Train\n",
    "Subject_A_Signal_Train = numpy.array(Subject_A_Train.get('Signal'));\n",
    "Subject_A_TargetChar_Train = numpy.array(Subject_A_Train.get('TargetChar'));\n",
    "Subject_A_StimulusCode_Train = numpy.array(Subject_A_Train.get('StimulusCode'));\n",
    "print('A Train')\n",
    "print('Subject A Signal Train:', Subject_A_Signal_Train.shape)\n",
    "print('Subject A TargetChar Train:', Subject_A_TargetChar_Train.shape)\n",
    "print('Subject A StimulusCode Train:', Subject_A_StimulusCode_Train.shape)\n",
    "\n",
    "# B\n",
    "Subject_B_Signal_Train = numpy.array(Subject_B_Train.get('Signal'));\n",
    "Subject_B_TargetChar_Train = numpy.array(Subject_B_Train.get('TargetChar'));\n",
    "Subject_B_StimulusCode_Train = numpy.array(Subject_B_Train.get('StimulusCode'));\n",
    "print('\\nB Train')\n",
    "print('Subject B Signal Train:', Subject_B_Signal_Train.shape)\n",
    "print('Subject B TargetChar Train:', Subject_B_TargetChar_Train.shape)\n",
    "print('Subject B StimulusCode Train:', Subject_B_StimulusCode_Train.shape)"
   ]
  },
  {
   "cell_type": "code",
   "execution_count": 63,
   "metadata": {},
   "outputs": [
    {
     "name": "stdout",
     "output_type": "stream",
     "text": [
      "Subject A Average Signal Train: (85, 12, 170, 64)\n",
      "\n",
      "Subject B Average Signal Train: (85, 12, 170, 64)\n"
     ]
    }
   ],
   "source": [
    "# Function To Get Average Of All Signals (And Channels) Within 1 Run\n",
    "def get_runs_average(\n",
    "        signals,\n",
    "        stimulus_code,\n",
    "        matrix,\n",
    "        repeatitions = 15,\n",
    "        start_window = 0,\n",
    "        end_window = 240\n",
    "    ):\n",
    "    \n",
    "    window = end_window - start_window\n",
    "    responses = numpy.zeros((signals.shape[0], matrix.shape[0] + matrix.shape[1], window, signals.shape[2]))\n",
    "    \n",
    "    for epoch in range(signals.shape[0]):\n",
    "        \n",
    "        # Sum of All Repeatitions -> Division of Sum -> Average\n",
    "        for n in range(1, signals.shape[1]):\n",
    "            if stimulus_code[epoch, n] == 0 and stimulus_code[epoch, n - 1] != 0:\n",
    "                responses[epoch, int(stimulus_code[epoch, n - 1]) - 1] += signals[epoch, n + start_window - 24 : n + end_window - 24]\n",
    "        responses[epoch] = responses[epoch] / repeatitions\n",
    "    \n",
    "    return responses\n",
    "\n",
    "# A\n",
    "Subject_A_Average_Signal_Train = get_runs_average(\n",
    "    Subject_A_Signal_Train,\n",
    "    Subject_A_StimulusCode_Train,\n",
    "    MATRIX,\n",
    "    start_window=START_WINDOW,\n",
    "    end_window=END_WINDOW\n",
    ")\n",
    "print('Subject A Average Signal Train:', Subject_A_Average_Signal_Train.shape)\n",
    "\n",
    "# B\n",
    "Subject_B_Average_Signal_Train = get_runs_average(\n",
    "    Subject_B_Signal_Train,\n",
    "    Subject_B_StimulusCode_Train,\n",
    "    MATRIX,\n",
    "    start_window=START_WINDOW,\n",
    "    end_window=END_WINDOW\n",
    ")\n",
    "print('\\nSubject B Average Signal Train:', Subject_B_Average_Signal_Train.shape)"
   ]
  },
  {
   "cell_type": "code",
   "execution_count": 55,
   "metadata": {},
   "outputs": [],
   "source": [
    "# Function To Get Average Of All Signals (And Channels) Within 1 Session\n",
    "def get_sessions_average(\n",
    "        average_signals,\n",
    "        target_char,\n",
    "        matrix,\n",
    "        repeatitions = 15,\n",
    "        start_window = 0,\n",
    "        end_window = 240\n",
    "    ):\n",
    "    \n",
    "    window = end_window - start_window\n",
    "    intensifications = matrix.shape[0] + matrix.shape[1]\n",
    "    sum_responses_Success = numpy.zeros((window, average_signals.shape[3]))\n",
    "    sum_responses_Fail = numpy.zeros((window, average_signals.shape[3]))\n",
    "    \n",
    "    # Looping Through Characters (85 Character)\n",
    "    for epoch in range(average_signals.shape[0]):\n",
    "        \n",
    "        # Getting Index Of Chosen Character\n",
    "        indices = numpy.where(matrix == target_char[epoch])\n",
    "        chosen_column = indices[1][0]\n",
    "        chosen_row = indices[0][0] + matrix.shape[1]\n",
    "        \n",
    "        for row_column in range(intensifications):\n",
    "            if row_column == chosen_row or row_column == chosen_column:\n",
    "                sum_responses_Success += average_signals[epoch, row_column]\n",
    "            else:\n",
    "                sum_responses_Fail += average_signals[epoch, row_column]\n",
    "\n",
    "    average_responses_Success = sum_responses_Success / (average_signals.shape[0] * 2)\n",
    "    average_responses_Fail = sum_responses_Fail / (average_signals.shape[0] * (intensifications - 2))\n",
    "    \n",
    "    return average_responses_Success, average_responses_Fail\n",
    "\n",
    "# A\n",
    "A_Success, A_Fail = get_sessions_average(\n",
    "    Subject_A_Average_Signal_Train,\n",
    "    Subject_A_TargetChar_Train[0],\n",
    "    MATRIX,\n",
    "    start_window=START_WINDOW,\n",
    "    end_window=END_WINDOW\n",
    ")\n",
    "\n",
    "# B\n",
    "B_Success, B_Fail = get_sessions_average(\n",
    "    Subject_B_Average_Signal_Train,\n",
    "    Subject_B_TargetChar_Train[0],\n",
    "    MATRIX,\n",
    "    start_window=START_WINDOW,\n",
    "    end_window=END_WINDOW\n",
    ")"
   ]
  },
  {
   "cell_type": "code",
   "execution_count": 56,
   "metadata": {},
   "outputs": [
    {
     "data": {
      "text/plain": [
       "<matplotlib.legend.Legend at 0x1816f5a0d30>"
      ]
     },
     "execution_count": 56,
     "metadata": {},
     "output_type": "execute_result"
    },
    {
     "data": {
      "image/png": "[encoded data removed]",
      "text/plain": [
       "<Figure size 432x288 with 2 Axes>"
      ]
     },
     "metadata": {
      "needs_background": "light"
     },
     "output_type": "display_data"
    }
   ],
   "source": [
    "# Plotting\n",
    "\n",
    "# A\n",
    "ax1 = plt.subplot(3, 1, 1)\n",
    "ax1.plot(A_Success[:, EXTRACTED_CHANNEL])\n",
    "ax1.plot(A_Fail[:, EXTRACTED_CHANNEL])\n",
    "ax1.set_title('Subject A')\n",
    "ax1.set_xlabel('Samples')\n",
    "ax1.set_ylabel('Signal Value')\n",
    "ax1.legend(('P300', 'Non-P300'))\n",
    "\n",
    "# B\n",
    "ax2 = plt.subplot(3, 1, 3)\n",
    "ax2.plot(B_Success[:, EXTRACTED_CHANNEL])\n",
    "ax2.plot(B_Fail[:, EXTRACTED_CHANNEL])\n",
    "ax2.set_title('Subject B')\n",
    "ax2.set_xlabel('Samples')\n",
    "ax2.set_ylabel('Signal Value')\n",
    "ax2.legend(('P300', 'Non-P300'))"
   ]
  },
  {
   "cell_type": "code",
   "execution_count": null,
   "metadata": {},
   "outputs": [],
   "source": []
  }
 ],
 "metadata": {
  "kernelspec": {
   "display_name": "Python 3",
   "language": "python",
   "name": "python3"
  },
  "language_info": {
   "codemirror_mode": {
    "name": "ipython",
    "version": 3
   },
   "file_extension": ".py",
   "mimetype": "text/x-python",
   "name": "python",
   "nbconvert_exporter": "python",
   "pygments_lexer": "ipython3",
   "version": "3.7.1"
  }
 },
 "nbformat": 4,
 "nbformat_minor": 2
}
